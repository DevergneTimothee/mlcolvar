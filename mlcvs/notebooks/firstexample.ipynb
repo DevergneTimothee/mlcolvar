{
 "cells": [
  {
   "cell_type": "code",
   "execution_count": 66,
   "metadata": {},
   "outputs": [],
   "source": [
    "import torch\n",
    "import pytorch_lightning as pl\n",
    "import numpy as np\n",
    "\n"
   ]
  },
  {
   "cell_type": "code",
   "execution_count": 51,
   "metadata": {},
   "outputs": [],
   "source": [
    "class FeedForward(torch.nn.Module):\n",
    "\n",
    "    def __init__(\n",
    "        self, layers, activation=\"relu\", **kwargs \n",
    "    ):\n",
    "        \"\"\"\n",
    "        Define a neural network module given the list of layers.\n",
    "\n",
    "        Parameters\n",
    "        ----------\n",
    "        layers : list\n",
    "            Number of neurons per layer\n",
    "        activation : string\n",
    "            Activation function (relu, tanh, elu, linear)\n",
    "        random_initialization: bool\n",
    "            if initialize the weights of the network with random values gaussian distributed N(0,1)\n",
    "\n",
    "        \"\"\"\n",
    "        super().__init__(**kwargs)\n",
    "\n",
    "        # get activation function\n",
    "        activ = None\n",
    "        if activation == \"relu\":\n",
    "            activ = torch.nn.ReLU(True)\n",
    "        elif activation == \"elu\":\n",
    "            activ = torch.nn.ELU(True)\n",
    "        elif activation == \"tanh\":\n",
    "            activ = torch.nn.Tanh()\n",
    "        elif activation == \"linear\":\n",
    "            print(\"WARNING: no activation selected\")\n",
    "        else:\n",
    "            raise ValueError(\n",
    "                \"Unknown activation. options: 'relu','elu','tanh','linear'. \"\n",
    "            )\n",
    "\n",
    "        # Create architecture\n",
    "        if not isinstance(layers[0],int):\n",
    "            raise TypeError('layers should be a list-type of integers.')\n",
    "        \n",
    "        modules = []\n",
    "        for i in range(len(layers) - 1):\n",
    "            if i < len(layers) - 2:\n",
    "                modules.append(torch.nn.Linear(layers[i], layers[i + 1]))\n",
    "                if activ is not None:\n",
    "                    modules.append(activ)\n",
    "            else:\n",
    "                modules.append(torch.nn.Linear(layers[i], layers[i + 1]))\n",
    "\n",
    "        self.nn     = torch.nn.Sequential(*modules)\n",
    "        \n",
    "        # save models\n",
    "        self.n_in   = layers[0]\n",
    "        self.n_out  = layers[-1]\n",
    "\n",
    "    def forward(self, x: torch.tensor) -> (torch.tensor):\n",
    "        return self.nn(x)"
   ]
  },
  {
   "cell_type": "code",
   "execution_count": 52,
   "metadata": {},
   "outputs": [],
   "source": [
    "class Normalization(torch.nn.Module):\n",
    "\n",
    "    def __init__(self, n_in, criterion='range'):\n",
    "        \n",
    "        super().__init__()\n",
    "        \n",
    "        self.n_in = n_in\n",
    "        self.n_out = n_in\n",
    "\n",
    "        self.criterion = criterion\n",
    "\n",
    "    def forward(self, x):\n",
    "\n",
    "        return x\n",
    "    "
   ]
  },
  {
   "cell_type": "markdown",
   "metadata": {},
   "source": [
    "class"
   ]
  },
  {
   "cell_type": "code",
   "execution_count": 101,
   "metadata": {},
   "outputs": [],
   "source": [
    "class SimpleCV(pl.LightningModule):\n",
    "    \n",
    "    def __init__(self, modules : list):\n",
    "        \n",
    "        super().__init__()\n",
    "        \n",
    "        self.blocks = torch.nn.Sequential(*modules)\n",
    "\n",
    "    def forward(self, x: torch.tensor) -> (torch.tensor):\n",
    "        y = self.blocks(x)\n",
    "        return y\n",
    "    \n",
    "    def configure_optimizers(self):\n",
    "        optimizer = torch.optim.Adam(self.parameters(), lr=1e-3)\n",
    "        return optimizer\n",
    "\n",
    "    def loss_function(self, input,target):\n",
    "        mse = torch.nn.MSELoss()\n",
    "        loss = mse(input,target)\n",
    "        return loss\n",
    "\n",
    "    def training_step(self, train_batch, batch_idx):\n",
    "        x, labels = train_batch\n",
    "        y = self.blocks(x)\n",
    "        loss = self.loss_function(y,labels)\n",
    "        self.log('train_loss', loss)\n",
    "        return loss\n",
    "\n",
    "    def validation_step(self, val_batch, batch_idx):\n",
    "        x, labels = val_batch\n",
    "        y = self.blocks(x)\n",
    "        loss = self.loss_function(y,labels)\n",
    "        self.log('val_loss', loss)\n"
   ]
  },
  {
   "cell_type": "code",
   "execution_count": null,
   "metadata": {},
   "outputs": [],
   "source": [
    "n_in = 2 \n",
    "X = torch.ones(n_in)\n",
    "\n",
    "layers = [n_in, 10, 1]\n",
    "\n",
    "params = {  'layers': layers,\n",
    "            'activation': 'tanh',\n",
    "            'normIn': True,\n",
    "            'normOut' : False,\n",
    "         }\n",
    "\n",
    "model = SimpleCV( **params )\n",
    "\n",
    "s = model(X)"
   ]
  },
  {
   "cell_type": "markdown",
   "metadata": {},
   "source": [
    "Create dataset"
   ]
  },
  {
   "cell_type": "code",
   "execution_count": 115,
   "metadata": {},
   "outputs": [],
   "source": [
    "from torch.utils.data import TensorDataset, DataLoader, random_split\n",
    "\n",
    "\n",
    "torch.manual_seed(42)\n",
    "\n",
    "n_points = 1000\n",
    "\n",
    "n_in = 2 \n",
    "n_out = 1\n",
    "\n",
    "X = torch.randn((n_points,n_in))*10\n",
    "y = X.square()\n",
    "\n",
    "dataset = TensorDataset(X,y)\n",
    "train_dataset, valid_dataset = random_split(dataset, [800,200])\n",
    "\n",
    "train_loader = DataLoader(train_dataset,batch_size=2)\n",
    "valid_loader = DataLoader(valid_dataset,batch_size=2) "
   ]
  },
  {
   "cell_type": "markdown",
   "metadata": {},
   "source": [
    "Create model and forward"
   ]
  },
  {
   "cell_type": "code",
   "execution_count": 118,
   "metadata": {},
   "outputs": [
    {
     "name": "stdout",
     "output_type": "stream",
     "text": [
      "SimpleCV(\n",
      "  (blocks): Sequential(\n",
      "    (0): Normalization()\n",
      "    (1): FeedForward(\n",
      "      (nn): Sequential(\n",
      "        (0): Linear(in_features=2, out_features=10, bias=True)\n",
      "        (1): Tanh()\n",
      "        (2): Linear(in_features=10, out_features=10, bias=True)\n",
      "        (3): Tanh()\n",
      "        (4): Linear(in_features=10, out_features=1, bias=True)\n",
      "      )\n",
      "    )\n",
      "    (2): Normalization()\n",
      "  )\n",
      ")\n"
     ]
    }
   ],
   "source": [
    "\n",
    "layers = [n_in, 10,10, n_out]\n",
    "\n",
    "modules = [ Normalization(n_in),\n",
    "            FeedForward(layers,activation='tanh'),\n",
    "            Normalization(n_out)]\n",
    "\n",
    "model = SimpleCV( modules )\n",
    "\n",
    "print(model)\n",
    "#print(X)\n",
    "#model.forward(X)\n"
   ]
  },
  {
   "cell_type": "code",
   "execution_count": 119,
   "metadata": {},
   "outputs": [
    {
     "name": "stderr",
     "output_type": "stream",
     "text": [
      "GPU available: True (cuda), used: False\n",
      "TPU available: False, using: 0 TPU cores\n",
      "IPU available: False, using: 0 IPUs\n",
      "HPU available: False, using: 0 HPUs\n",
      "\n",
      "  | Name   | Type       | Params\n",
      "--------------------------------------\n",
      "0 | blocks | Sequential | 151   \n",
      "--------------------------------------\n",
      "151       Trainable params\n",
      "0         Non-trainable params\n",
      "151       Total params\n",
      "0.001     Total estimated model params size (MB)\n"
     ]
    },
    {
     "name": "stdout",
     "output_type": "stream",
     "text": [
      "Epoch 131:  80%|████████  | 401/500 [00:00<00:00, 433.24it/s, loss=9.14e+03, v_num=54]"
     ]
    }
   ],
   "source": [
    "trainer = pl.Trainer()\n",
    "trainer.fit(model, train_loader, valid_loader)"
   ]
  },
  {
   "cell_type": "code",
   "execution_count": null,
   "metadata": {},
   "outputs": [],
   "source": []
  }
 ],
 "metadata": {
  "kernelspec": {
   "display_name": "Python 3.10.8 ('pytorch-latest')",
   "language": "python",
   "name": "python3"
  },
  "language_info": {
   "codemirror_mode": {
    "name": "ipython",
    "version": 3
   },
   "file_extension": ".py",
   "mimetype": "text/x-python",
   "name": "python",
   "nbconvert_exporter": "python",
   "pygments_lexer": "ipython3",
   "version": "3.10.8"
  },
  "orig_nbformat": 4,
  "vscode": {
   "interpreter": {
    "hash": "29d490a3527d9d5582d972bd88a2a5420fc6dc4ebc5b98244395072c1a1fb484"
   }
  }
 },
 "nbformat": 4,
 "nbformat_minor": 2
}
