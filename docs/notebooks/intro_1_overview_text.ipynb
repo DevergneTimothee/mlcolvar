{
 "cells": [
  {
   "attachments": {},
   "cell_type": "markdown",
   "metadata": {},
   "source": [
    "# A mlcvs overview"
   ]
  },
  {
   "attachments": {},
   "cell_type": "markdown",
   "metadata": {},
   "source": [
    "## What is `mlcvs`\n",
    "`mlcvs`, which stands for Machine Learning Collective Variables, is Python library for the construciton of machine learning-based Collective Variables (CVs) for atomistic simulations.\n",
    "\n",
    "The main purposes of `mlcvs` are\n",
    "- Simplify to the bone the use of such CVs for the users.\n",
    "- Provide a flexible framework for further development over previous models.\n",
    "\n",
    "`mlcvs` allows the user to start train and export mlcvs models from scratch with only few lines of code which furthermore do no require any expertise in coding.\n",
    "\n",
    "The library is based on Pytorch and exploits many features of the Pytorch-Lightning package to simplify the overall workflow. \n",
    "The library is thought to be used alongside with PLUMED, thus it is structured to simplify as much as possible the interaction with that in terms of handling of data files and utilization of the mlcvs.\n"
   ]
  },
  {
   "attachments": {},
   "cell_type": "markdown",
   "metadata": {},
   "source": [
    "## `mlcvs` workflow\n",
    "The main goal of `mlcvs` is to make the construction of mlcvs as straightforward and accessible as possible for all types of users.\n",
    "\n",
    "In the basic workflow consists of few steps which corresponds to very few lines of code:\n",
    "- Import training data using the functions in `utils`, i.e. PLUMED colvar files or others\n",
    "- Organize the training data into a `DataModule` using the functions in `data`. This allows to expolit best the Lightning features\n",
    "- Initialize the model as one of the CV classes in `cvs`.  \n",
    "- Initialize a `pytorch_lightning.trainer`, this takes care of training, validating, logs and boring stuff :)\n",
    "- Export the trained model with `model.to_torchscript()`\n",
    "- TODO Generate a PLUMED input file \n",
    "- Enjoy the CV in PLUMED with our awesome interface"
   ]
  },
  {
   "attachments": {},
   "cell_type": "markdown",
   "metadata": {},
   "source": [
    "## Structure of CVs classes in `mlcvs`\n",
    "\n",
    "The final product of `mlcvs` library are of course the CVs.\n",
    "These are defined as classes which inherit from from a `BaseCV` class and from `pytorch_lightning.module`, which inherits from `torch.nn.module`.\n",
    "The first super class is meant to define a template for all the CVs along with common utility methods and the handling of pre and post processing in the model. \n",
    "\n",
    "The second allows to exploit all the utilites from pytorch lightning.  \n",
    "\n",
    "Each CV is characterized by its specific methods, attributes and properties, which are implemented on top of these two super classes.\n",
    "The structure of CVs in `mlcvs` is thought to be modular, indeed the core of each model is defined as a series of `BLOCKS`, implemented as `torch.nn.module`, that are automatically executed sequentially in a similar fashion to what is done with `torch.nn.sequential`.\n",
    "Each CV then has a `loss_fn` attribute that sets the loss function which has to be minimized for the optimization of the trainable blocks.\n",
    "\n",
    "The CV\n",
    "\n",
    "\n"
   ]
  },
  {
   "attachments": {},
   "cell_type": "markdown",
   "metadata": {},
   "source": []
  },
  {
   "cell_type": "markdown",
   "metadata": {},
   "source": [
    "## Structure of the code"
   ]
  },
  {
   "attachments": {},
   "cell_type": "markdown",
   "metadata": {},
   "source": [
    "### core\n",
    "Implements building blocks of the mlcvs classes\n",
    "- **loss** :      Implements loss functions for the training of mlcvs\n",
    "- **nn** :        Implements trainable machine-learning building blocks of the mlcvs classes, conceptually similar to torch.nn \n",
    "- **stats** :     Implements statistics-based builidng blocks for the mlcvs classes\n",
    "- **transform** : Implements non-trainable transformations of data"
   ]
  },
  {
   "attachments": {},
   "cell_type": "markdown",
   "metadata": {},
   "source": [
    "### cvs\n",
    "Implements ready-to-use mlcvs classes and the `BaseCV` template class.\n",
    "The CVs are divided based on the criterion used for the optimization in: \n",
    "- **unsupervised** :      Only require data about the system (`Autoencoder_CV`and `VAE_CV`, variational autoencoder CV).\n",
    "- **supervised**:         Require either labeled data from the different metastable states of the system (`DeepLDA_CV` and `DeepTDA_CV`) or data and target to be matched (`Regression_CV`)\n",
    "- **timelagged**:         Require time-lagged data from reactive trajectory (`DeepTICA_CV`)\n",
    "\n"
   ]
  },
  {
   "cell_type": "markdown",
   "metadata": {},
   "source": []
  }
 ],
 "metadata": {
  "kernelspec": {
   "display_name": "pytorch",
   "language": "python",
   "name": "python3"
  },
  "language_info": {
   "codemirror_mode": {
    "name": "ipython",
    "version": 3
   },
   "file_extension": ".py",
   "mimetype": "text/x-python",
   "name": "python",
   "nbconvert_exporter": "python",
   "pygments_lexer": "ipython3",
   "version": "3.9.16"
  },
  "orig_nbformat": 4,
  "vscode": {
   "interpreter": {
    "hash": "1cbeac1d7079eaeba64f3210ccac5ee24400128e300a45ae35eee837885b08b3"
   }
  }
 },
 "nbformat": 4,
 "nbformat_minor": 2
}
