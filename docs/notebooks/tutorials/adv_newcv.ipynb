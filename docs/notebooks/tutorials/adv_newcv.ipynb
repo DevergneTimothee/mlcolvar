{
 "cells": [
  {
   "attachments": {},
   "cell_type": "markdown",
   "metadata": {},
   "source": [
    "# Implementing a new CV\n",
    "In this notebook we will move top-bottom through the structure of the CV classes in `mlcolvar`.\n",
    "\n",
    "As an example we will write (and comment) step by step the implementation of the `AutoEncoderCV`. "
   ]
  },
  {
   "attachments": {},
   "cell_type": "markdown",
   "metadata": {},
   "source": [
    "### Define the class object\n",
    "In `mlcolvar` CVs class objects inherits from two mother classes:\n",
    "- `BaseCV` class, which contains some common and default helper functions\n",
    "- `lightning.LightniningModule` class, which autoamically gives access to the Lightining package utilities \n",
    "\n",
    "In the class declaration preamble we set the names of  the `BLOCKS` that consitute the main body of the CV itself. These are initialized as a constant for the class and are thus immutable.  "
   ]
  },
  {
   "cell_type": "code",
   "execution_count": 3,
   "metadata": {},
   "outputs": [],
   "source": [
    "import torch\n",
    "import lightning\n",
    "\n",
    "from mlcolvar.cvs import BaseCV\n",
    "\n",
    "class AutoEncoderCV(BaseCV, lightning.LightningModule):\n",
    "    BLOCKS = ['norm_in','encoder','decoder'] "
   ]
  },
  {
   "attachments": {},
   "cell_type": "markdown",
   "metadata": {},
   "source": [
    "To keep the code in the library as clear as possible, we should also add short docstring to our CV class briefly explaining how it works!\n",
    "\n",
    "Anyways to save some space we will skip this in the follwing cells"
   ]
  },
  {
   "cell_type": "code",
   "execution_count": 2,
   "metadata": {},
   "outputs": [],
   "source": [
    "class AutoEncoderCV(BaseCV, lightning.LightningModule):\n",
    "    \"\"\"AutoEncoding Collective Variable. It is composed by a first neural network (encoder) which projects \n",
    "    the input data into a latent space (the CVs). Then a second network (decoder) takes \n",
    "    the CVs and tries to reconstruct the input data based on them. It is an unsupervised learning approach, \n",
    "    typically used when no labels are available.\n",
    "    Furthermore, it can also be used lo learn a representation which can be used not to reconstruct the data but \n",
    "    to predict, e.g. future configurations. \n",
    "\n",
    "    For training it requires a DictDataset with the key 'data' and optionally 'weights'. If a 'target' \n",
    "    key is present this will be used as reference for the output of the decoder, otherway this will be compared\n",
    "    with the input 'data'.\n",
    "    \"\"\"\n",
    "    \n",
    "    BLOCKS = ['norm_in','encoder','decoder'] "
   ]
  },
  {
   "attachments": {},
   "cell_type": "markdown",
   "metadata": {},
   "source": [
    "### Define the `__init__` method\n",
    "The `__init__` method is the signature of the CV model as it initializes all that is necessary for the CV model to run, including blocks, variables, attributes..\n",
    "\n",
    "Among the elements in the `__init__`, some are common for all of the CVs, while others are characteristic of the CV at hand."
   ]
  },
  {
   "attachments": {},
   "cell_type": "markdown",
   "metadata": {},
   "source": [
    "##### General `__init__` elements\n",
    "- **in/out features**: All the CVs classes in `mlcolvar` should have defined somwhere the number of `in_features` and `out_features`, which are the number of inputs and outputs respectively. They can be passed as parameters to the `__init__` or extracted somewhere else, as we shall see in the next section .\n",
    "- **options**: The options `dict` provide the interface to modify the defaults of the CV's elements, i.e. parameters of blocks, loss funciton, optimizer..\n",
    "- ****kwargs**: CVs in `mlcolvar` also accept key-word arguments to be passed to their building functions \n",
    "\n",
    "`super().__init__()`\n"
   ]
  },
  {
   "cell_type": "code",
   "execution_count": null,
   "metadata": {},
   "outputs": [],
   "source": [
    "class AutoEncoderCV(BaseCV, lightning.LightningModule):\n",
    "    BLOCKS = ['norm_in','encoder','decoder']  \n",
    "\n",
    "    # ======================== LOOK HERE 0.0 ========================   \n",
    "    def __init__(self,\n",
    "                 in_features : int,\n",
    "                 out_features : int,\n",
    "                 options : dict = None, \n",
    "                 **kwargs):\n",
    "        super().__init__(in_features=in_features, out_features=out_features, **kwargs)\n",
    "\n",
    "    # ======================== LOOK HERE 0.0 ========================   "
   ]
  }
 ],
 "metadata": {
  "kernelspec": {
   "display_name": "pytorch",
   "language": "python",
   "name": "python3"
  },
  "language_info": {
   "codemirror_mode": {
    "name": "ipython",
    "version": 3
   },
   "file_extension": ".py",
   "mimetype": "text/x-python",
   "name": "python",
   "nbconvert_exporter": "python",
   "pygments_lexer": "ipython3",
   "version": "3.10.8"
  },
  "orig_nbformat": 4,
  "vscode": {
   "interpreter": {
    "hash": "1cbeac1d7079eaeba64f3210ccac5ee24400128e300a45ae35eee837885b08b3"
   }
  }
 },
 "nbformat": 4,
 "nbformat_minor": 2
}
